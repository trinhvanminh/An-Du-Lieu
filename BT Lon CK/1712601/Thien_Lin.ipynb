{
  "nbformat": 4,
  "nbformat_minor": 0,
  "metadata": {
    "anaconda-cloud": {},
    "kernelspec": {
      "display_name": "Python 3",
      "language": "python",
      "name": "python3"
    },
    "language_info": {
      "codemirror_mode": {
        "name": "ipython",
        "version": 3
      },
      "file_extension": ".py",
      "mimetype": "text/x-python",
      "name": "python",
      "nbconvert_exporter": "python",
      "pygments_lexer": "ipython3",
      "version": "3.7.4"
    },
    "toc": {
      "nav_menu": {},
      "number_sections": false,
      "sideBar": true,
      "skip_h1_title": false,
      "title_cell": "Table of Contents",
      "title_sidebar": "Contents",
      "toc_cell": false,
      "toc_position": {
        "height": "calc(100% - 180px)",
        "left": "10px",
        "top": "150px",
        "width": "165px"
      },
      "toc_section_display": true,
      "toc_window_display": true
    },
    "colab": {
      "name": "Thien_Lin.ipynb",
      "provenance": [],
      "collapsed_sections": []
    }
  },
  "cells": [
    {
      "cell_type": "markdown",
      "metadata": {
        "id": "l-BKV_h1VGkr"
      },
      "source": [
        "# **Bài tập lớn cuối kỳ**\n",
        "- Mssv: 1712601\n",
        "- Họ và tên: Trịnh Văn Minh"
      ]
    },
    {
      "cell_type": "markdown",
      "metadata": {
        "id": "EhNhCfXaVbAJ"
      },
      "source": [
        "# Ý tưởng để tái tạo ảnh mật"
      ]
    },
    {
      "cell_type": "markdown",
      "metadata": {
        "id": "Td9psow9UfSi"
      },
      "source": [
        "\n",
        "\n",
        "- Nhân ma trận nghịch đảo để giải hệ phương trình \n",
        "- Từ đó tìm ra các pixel $P_i$\n",
        "- Hệ có dạng\n",
        "\n",
        "\\begin{equation*}\n",
        "\\begin{bmatrix}\n",
        "P_1x_1^0 & P_2x_1^2 & P_3x_1^2 \\\\\n",
        "P_1x_2^0 & P_2x_2^2 & P_3x_2^2 \\\\\n",
        "P_1x_3^0 & P_2x_3^2 & P_3x_3^2\n",
        "\\end{bmatrix}\n",
        "=\n",
        "\\begin{bmatrix}\n",
        "y_1 \\\\\n",
        "y_2 \\\\\n",
        "y_3\n",
        "\\end{bmatrix}\n",
        "\\end{equation*}\n",
        "\n",
        "- Tương đương\n",
        "\n",
        "\\begin{equation*}\n",
        "\\begin{bmatrix}\n",
        "x_1^0 & x_1^2 & x_1^2 \\\\\n",
        "x_2^0 & x_2^2 & x_2^2 \\\\\n",
        "x_3^0 & x_3^2 & x_3^2\n",
        "\\end{bmatrix}\n",
        "\\begin{bmatrix}\n",
        "P_1 \\\\\n",
        "P_2 \\\\\n",
        "P_3\n",
        "\\end{bmatrix}\n",
        "=\n",
        "\\begin{bmatrix}\n",
        "y_1 \\\\\n",
        "y_2 \\\\\n",
        "y_3\n",
        "\\end{bmatrix}\n",
        "\\end{equation*}\n",
        "\n",
        "- Áp dụng phương pháp nhân nghịch đảo để tính các pixel ($P_i$)\n",
        "\n",
        "\\begin{equation*}\n",
        "A \n",
        "= \n",
        "\\begin{bmatrix}\n",
        "x_1^0 & x_1^2 & x_1^2 \\\\\n",
        "x_2^0 & x_2^2 & x_2^2 \\\\\n",
        "x_3^0 & x_3^2 & x_3^2\n",
        "\\end{bmatrix}\n",
        "\\end{equation*}\n",
        "\n",
        "\\begin{equation*}\n",
        "X \n",
        "= \n",
        "\\begin{bmatrix}\n",
        "P_1 \\\\\n",
        "P_2 \\\\\n",
        "P_3\n",
        "\\end{bmatrix}\n",
        "\\end{equation*}\n",
        "\n",
        "\\begin{equation*}\n",
        "B \n",
        "= \n",
        "\\begin{bmatrix}\n",
        "y_1 \\\\\n",
        "y_2 \\\\\n",
        "y_3\n",
        "\\end{bmatrix}\n",
        "\\end{equation*}\n",
        "\n",
        "$A.X = B $\n",
        "\n",
        "$X^T.A^T$ = $B^T$\n",
        "\n",
        "$X^T$ = $B^T.(A^T)^(-1)$"
      ]
    },
    {
      "cell_type": "markdown",
      "metadata": {
        "id": "KVOPmdizVdrO"
      },
      "source": [
        "# Phần code\n"
      ]
    },
    {
      "cell_type": "code",
      "metadata": {
        "id": "DV3W4oY0FEaj"
      },
      "source": [
        "import math\n",
        "from PIL import Image\n",
        "import numpy as np\n",
        "from sympy import Matrix"
      ],
      "execution_count": 1,
      "outputs": []
    },
    {
      "cell_type": "code",
      "metadata": {
        "id": "Q-TnwTpYFEal"
      },
      "source": [
        "def compute_polynomial(p, coefs, xs):\n",
        "    '''\n",
        "    Tính giá trị của hàm đa thức.\n",
        "\n",
        "    Các tham số:\n",
        "        coefs (mảng numpy một chiều): Các hệ số của hàm đa thức, \n",
        "                                        f(x) = coefs[0] + coefs[1]*x + coefs[2]*x^2 + ...\n",
        "        xs (mảng numpy một chiều): Các giá trị x mà tại đó cần tính f(x).\n",
        "    Giá trị trả về:\n",
        "        Mảng numpy một chiều: Phần tử chỉ số i trong mảng này bằng f(xs[i]).\n",
        "    '''\n",
        "    # TODO\n",
        "    f_xs = np.zeros(xs.shape, dtype=int)\n",
        "    for i in range(len(coefs)):\n",
        "        xs_pow_i = np.ones(xs.shape, dtype=int)\n",
        "        for j in range(i):\n",
        "            xs_pow_i = (xs_pow_i * xs) % p\n",
        "\n",
        "        f_xs = (f_xs + coefs[i] * xs_pow_i % p) % p\n",
        "\n",
        "    return f_xs\n",
        "\n",
        "def convert_pixels_to_mode(pixels, mode=0):\n",
        "  count = 0\n",
        "  # lossy\n",
        "  if mode == 0:\n",
        "      for r in range(pixels.shape[0]):\n",
        "          for c in range(pixels.shape[1]):\n",
        "              if pixels[r,c] > 250:\n",
        "                  pixels[r,c] = 250\n",
        "      return pixels\n",
        "  # mode 1 or any: lossless\n",
        "  elif mode == 1:\n",
        "      pixels = pixels.flatten()\n",
        "      new_pixels = np.array([], dtype=np.uint8)\n",
        "\n",
        "      for i in range(pixels.size):\n",
        "        if pixels[i] >= 250:\n",
        "          count+=1\n",
        "          new_pixels = np.append(new_pixels, [250, pixels[i] - 250])\n",
        "        else:\n",
        "          new_pixels = np.append(new_pixels, pixels[i])\n",
        "      return new_pixels\n",
        "\n",
        "\n",
        "def split(ori_image, split_image, n, k, p=251, mode=0):\n",
        "    '''\n",
        "    Hàm phân chia ảnh mật ori_image m pixel thành k phần (k nhóm) sao cho chỉ khi có ít nhất là k phần (k <= n)\n",
        "    thì mới tái tạo được ori_image, còn ít hơn k phần thì sẽ không biết gì về s.\n",
        "\n",
        "    Các tham số:\n",
        "        ori_image (*.bmp, *.png): Ảnh cần chia sẻ.\n",
        "        split_image (*.bmp, *.png): Phần tên không bao gồm số thứ tự (vd part.bmp thay vì part0.bmp)\n",
        "        n (int): Số phần cần phân chia.\n",
        "        k (int): Ngưỡng k (k <= n).\n",
        "        mode: 0 (lossy)\n",
        "              1 (lossless)\n",
        "    Giá trị trả về:\n",
        "        n ảnh mang tên split_image$.bmp / split_image$.png\n",
        "        xs mảng x\n",
        "    '''\n",
        "    pixels = np.array(Image.open(ori_image))\n",
        "\n",
        "    ori_shape = pixels.shape\n",
        "    m = pixels.size\n",
        "\n",
        "    # convert pixels to mode\n",
        "    pixels = convert_pixels_to_mode(pixels, mode)\n",
        "    new_m = pixels.size\n",
        "\n",
        "    # padding 0 -> m % k == 0\n",
        "    padded_pixels = np.append(pixels, (k - new_m % k)*[0])\n",
        "    \n",
        "    # reshape into group\n",
        "    padded_pixels = padded_pixels.reshape(-1, k)\n",
        "    groups_len = padded_pixels.shape[0]\n",
        "    # 2D array\n",
        "    result_arr = np.zeros((groups_len, n), dtype=np.uint8)\n",
        "\n",
        "    for i in range(groups_len):\n",
        "        # Lấy các hệ số từ k pixels\n",
        "        coefs = padded_pixels[i]\n",
        "        xs = np.arange(n) + 1\n",
        "        ys = compute_polynomial(p, coefs, xs)\n",
        "        ys = ys.astype(np.uint8)\n",
        "\n",
        "        result_arr[i] = ys\n",
        "\n",
        "    # Tách từng phần, tách từng ảnh\n",
        "    for i in range(n):\n",
        "        new_pixels = result_arr[:, i]\n",
        "        # padding\n",
        "        new_pixels = np.append(new_pixels, [0]*(m - len(new_pixels)))\n",
        "        new_pixels = new_pixels.reshape(ori_shape[0], ori_shape[1])\n",
        "        new_pixels= new_pixels.astype(np.uint8)\n",
        "        \n",
        "        # Ghi new pixels xuống file\n",
        "        Image.fromarray(new_pixels).save(split_image.split('.')[0] + str(i + 1) + '.' + split_image.split('.')[1])\n",
        "    return xs, new_m"
      ],
      "execution_count": 2,
      "outputs": []
    },
    {
      "cell_type": "markdown",
      "metadata": {
        "id": "6y-2ADpcOrkW"
      },
      "source": [
        "## Hàm get_ys_group \n",
        "- Với tham số đầu vào split_image (vd: part.bmp thay vì part1.bmp)\n",
        "- Hàm này sẽ trả về các nhóm các ys, kích thước (512*512), shape(512,512)"
      ]
    },
    {
      "cell_type": "code",
      "metadata": {
        "id": "6MnrQ9XUG02Y"
      },
      "source": [
        "def get_ys_group(split_image, new_pixels_size, n, k, p=251):\n",
        "    pixels_part = np.array(Image.open(split_image.split('.')[0] + '1.' + split_image.split('.')[1]))\n",
        "    old_pixels_size = pixels_part.size\n",
        "    shape = pixels_part.shape\n",
        "    # kích thước ban đầu của group (chưa padding)\n",
        "    ori_size = math.ceil(new_pixels_size / k)\n",
        "    \n",
        "    ys_group = np.zeros((n, ori_size), dtype=int)\n",
        "    for i in range(n):\n",
        "        pixels_part = np.array(Image.open(\n",
        "            split_image.split('.')[0] + str(i + 1) + '.' + split_image.split('.')[1]))\n",
        "        # loại bỏ padding\n",
        "        pixels_part = pixels_part.flatten()[:ori_size]\n",
        "        ys_group[i] = pixels_part\n",
        "\n",
        "    ys_group = ys_group.T\n",
        "    return ys_group, old_pixels_size, shape"
      ],
      "execution_count": 3,
      "outputs": []
    },
    {
      "cell_type": "markdown",
      "metadata": {
        "id": "xDgOMW6MPck1"
      },
      "source": [
        "## Hàm get_A \n",
        "- Nhận vào tham số `new_xs` là một mảng bao gồm các xs đã được hoán vị ngẫu nhiên\n",
        "- Tạo ra mảng `xs_pow_i_arr` là một matrix gôm các giá trị\n",
        "\\begin{equation*}\n",
        "A \n",
        "= \n",
        "\\begin{bmatrix}\n",
        "x_1^0 & x_1^2 & x_1^2 \\\\\n",
        "x_2^0 & x_2^2 & x_2^2 \\\\\n",
        "x_3^0 & x_3^2 & x_3^2\n",
        "\\end{bmatrix}\n",
        "\\end{equation*}\n",
        "\n",
        "- Trà về một matrix A đã nghịch đảo và mod 251\n",
        "\n"
      ]
    },
    {
      "cell_type": "code",
      "metadata": {
        "id": "WbptYPhduZr1"
      },
      "source": [
        "def get_A(new_xs, k, p=251):\n",
        "    # print(new_xs)\n",
        "    xs_pow_i_arr = np.zeros((k, k), dtype=np.uint8)\n",
        "    for i in range(len(new_xs)):\n",
        "        xs_pow_i = np.ones(new_xs.shape, dtype=np.uint8)\n",
        "        for j in range(i):\n",
        "            xs_pow_i = (xs_pow_i * new_xs) % 251\n",
        "        xs_pow_i_arr[i] = xs_pow_i\n",
        "    # print(xs_pow_i_arr)\n",
        "\n",
        "    # inverse matrix mod p\n",
        "    A = Matrix(xs_pow_i_arr)  # keyMatrix is your basic matrix ndrarray format\n",
        "    A = A.inv_mod(p)  # 251\n",
        "    return A"
      ],
      "execution_count": 4,
      "outputs": []
    },
    {
      "cell_type": "markdown",
      "metadata": {
        "id": "rQCiDRPWXAP_"
      },
      "source": [
        "## Hàm join\n",
        "- Nhận vào các tham số đã được cắt ra bởi các index ngẫu nhiên của xs\n",
        "- Trả về kết quả là một mảng gồm các pixel được tính bằng\n",
        "\n",
        " `pixels_part = matrix_B * matrix_A % p`"
      ]
    },
    {
      "cell_type": "code",
      "metadata": {
        "id": "crI_vKltucvA"
      },
      "source": [
        "def join(new_xs, new_ys_group, k, p=251, mode=0):\n",
        "    '''\n",
        "    Tái tạo tin mật s từ n' phần của tin mật (n' >= k).\n",
        "\n",
        "    Các tham số:\n",
        "        xs, ys (2 mảng numpy một chiều, len = n'): n' phần của tin mật: phần thứ 1 là (xs[0], ys[0]), \n",
        "                                                                        phần thứ 2 là (xs[1], ys[1]), \n",
        "                                                                        ...\n",
        "        k (int): Ngưỡng k mà đã dùng khi phân chia tin mật.\n",
        "    Giá trị trả về:\n",
        "        int: Tin mật s được tái tạo,\n",
        "                trong trường hợp không đủ số phần để tái tạo tin mật thì trả về None.\n",
        "    '''\n",
        "    # TODO\n",
        "    if len(new_xs) < k:\n",
        "        return None\n",
        "\n",
        "    # A inversed, mod 251\n",
        "    matrix_A = get_A(new_xs, k, p)\n",
        "\n",
        "\n",
        "    pixels = np.array([], dtype=int)\n",
        "    for i in range(new_ys_group.shape[0]):\n",
        "        matrix_B = Matrix(new_ys_group[i]).reshape(1, k)  # 1, k\n",
        "        pixels_part = matrix_B * matrix_A % p\n",
        "        pixels = np.append(pixels, pixels_part)\n",
        "\n",
        "\n",
        "    # lossless\n",
        "    if mode == 1:\n",
        "      pixels_part_ori = np.array([], dtype=np.uint8) # lossless\n",
        "      j = 0\n",
        "      while (j < len(pixels)):\n",
        "        if (pixels[j] == 250):\n",
        "          pixels_part_ori = np.append(pixels_part_ori, pixels[j] + pixels[j + 1])\n",
        "          j += 1\n",
        "        else:\n",
        "          pixels_part_ori = np.append(pixels_part_ori, pixels[j])  \n",
        "        j+=1\n",
        "      \n",
        "      return pixels_part_ori.astype(np.uint8)\n",
        "\n",
        "    # lossy\n",
        "    return pixels.astype(np.uint8)"
      ],
      "execution_count": 5,
      "outputs": []
    },
    {
      "cell_type": "markdown",
      "metadata": {
        "id": "6AGJBJKM2M8t"
      },
      "source": [
        "# Phân chia ảnh mật: chia nhóm, lấy kích thước ban đầu, shape"
      ]
    },
    {
      "cell_type": "code",
      "metadata": {
        "id": "N01tjgY2FwcF",
        "colab": {
          "base_uri": "https://localhost:8080/"
        },
        "outputId": "4d64afbd-9814-4a9e-cfff-d2d9b9241735"
      },
      "source": [
        "# Phân chia ảnh mật\n",
        "p = 251\n",
        "k = 3\n",
        "n = 5\n",
        "\n",
        "# mode = 0\n",
        "mode = 1\n",
        "\n",
        "split_image = 'parrot_part.png'\n",
        "ori_image = 'cover2.png'\n",
        "\n",
        "\n",
        "# split_image = 'girl_part.bmp'\n",
        "# ori_image = 'cover.bmp'\n",
        "\n",
        "\n",
        "# mode: 0 (lossy), 1(lossless)\n",
        "xs, new_pixels_size = split(ori_image, split_image, n, k, p, mode)\n",
        "\n",
        "# chia nhóm\n",
        "ys_group, size, shape = get_ys_group(split_image, new_pixels_size, n, k, p)\n",
        "print(ys_group)\n",
        "print(xs)\n",
        "print(size, shape)"
      ],
      "execution_count": 6,
      "outputs": [
        {
          "output_type": "stream",
          "text": [
            "[[  0   0   0   0   0]\n",
            " [  1   1   1   1   1]\n",
            " [  2   6  12  20  30]\n",
            " ...\n",
            " [145  93 141  38  35]\n",
            " [110 229 153 133 169]\n",
            " [ 34  34  34  34  34]]\n",
            "[1 2 3 4 5]\n",
            "30000 (200, 150)\n"
          ],
          "name": "stdout"
        }
      ]
    },
    {
      "cell_type": "markdown",
      "metadata": {
        "id": "ZkJnSf9_2CBB"
      },
      "source": [
        "# Chọn ngẫu nhiên n' phần để tái tạo tin mật \n",
        "- cover2.png (kích thước nhỏ chạy nhanh)\n",
        "- Mất khoảng 4 phút (cover.bmp, kích thước lớn) với n = 5, k = 3, mode = 0 (lossy)"
      ]
    },
    {
      "cell_type": "code",
      "metadata": {
        "id": "fQ66JkPVFEao",
        "colab": {
          "base_uri": "https://localhost:8080/"
        },
        "outputId": "57da781e-4c3c-47e1-ca5e-8577d4b49df5"
      },
      "source": [
        "# -------------------------------------\n",
        "#   mất khoảng 4 phút để hoàn tất với ảnh cover.bmp vì kích thước lớn\n",
        "#--------------------------------------\n",
        "\n",
        "rand_idxs = np.random.permutation(np.arange(n))\n",
        "\n",
        "\n",
        "# -------------------------------------\n",
        "n_prime = k - 1\n",
        "\n",
        "new_xs = xs[rand_idxs[:n_prime]]\n",
        "new_ys_group = ys_group[:, rand_idxs[:n_prime]]\n",
        "\n",
        "rec_s = join(new_xs, new_ys_group, k, p)\n",
        "print(rec_s)\n",
        "\n",
        "#--------------------------------------\n",
        "\n",
        "n_prime = k\n",
        "\n",
        "new_xs = xs[rand_idxs[:n_prime]]\n",
        "new_ys_group = ys_group[:, rand_idxs[:n_prime]]\n",
        "\n",
        "rec_s = join(new_xs, new_ys_group, k, p, mode)\n",
        "rec_s = rec_s[:size].reshape(shape)\n",
        "print(rec_s)\n",
        "\n",
        "# Ghi new pixels xuống file\n",
        "Image.fromarray(rec_s).save('reconstructor_cover2.png')"
      ],
      "execution_count": 7,
      "outputs": [
        {
          "output_type": "stream",
          "text": [
            "None\n",
            "[[  0   0   0 ...   3   0   0]\n",
            " [  0   0   0 ...  33  13   0]\n",
            " [  4   1   0 ...  96  65   6]\n",
            " ...\n",
            " [124 133 139 ...  33  13   8]\n",
            " [128 138 145 ...  35  28  28]\n",
            " [135 137 136 ...  35  28  34]]\n"
          ],
          "name": "stdout"
        }
      ]
    },
    {
      "cell_type": "markdown",
      "metadata": {
        "id": "udo2CKlY1zfW"
      },
      "source": [
        "# Kiểm tra lại kết quả"
      ]
    },
    {
      "cell_type": "code",
      "metadata": {
        "colab": {
          "base_uri": "https://localhost:8080/"
        },
        "id": "ZNwb6ivSzvRe",
        "outputId": "90add24f-b1a2-4fbf-eb81-2a1cca1956c2"
      },
      "source": [
        "\n",
        "pixels = np.array(Image.open(ori_image))\n",
        "print(pixels)\n",
        "print(pixels.size)\n",
        "print(pixels.shape)\n",
        "print(pixels.dtype)\n",
        "\n",
        "print(rec_s)\n",
        "print(rec_s.size)\n",
        "print(rec_s.shape)\n",
        "print(rec_s.dtype)\n",
        "\n",
        "number_of_equal_elements = np.sum(pixels==rec_s)\n",
        "total_elements = np.multiply(*pixels.shape)\n",
        "percentage = number_of_equal_elements/total_elements\n",
        "\n",
        "print('total number of elements: \\t\\t{}'.format(total_elements))\n",
        "print('number of identical elements: \\t\\t{}'.format(number_of_equal_elements))\n",
        "print('number of different elements: \\t\\t{}'.format(total_elements-number_of_equal_elements))\n",
        "print('percentage of identical elements: \\t{:.2f}%'.format(percentage*100))"
      ],
      "execution_count": 8,
      "outputs": [
        {
          "output_type": "stream",
          "text": [
            "[[  0   0   0 ...   3   0   0]\n",
            " [  0   0   0 ...  33  13   0]\n",
            " [  4   1   0 ...  96  65   6]\n",
            " ...\n",
            " [124 133 139 ...  33  13   8]\n",
            " [128 138 145 ...  35  28  28]\n",
            " [135 137 136 ...  35  28  34]]\n",
            "30000\n",
            "(200, 150)\n",
            "uint8\n",
            "[[  0   0   0 ...   3   0   0]\n",
            " [  0   0   0 ...  33  13   0]\n",
            " [  4   1   0 ...  96  65   6]\n",
            " ...\n",
            " [124 133 139 ...  33  13   8]\n",
            " [128 138 145 ...  35  28  28]\n",
            " [135 137 136 ...  35  28  34]]\n",
            "30000\n",
            "(200, 150)\n",
            "uint8\n",
            "total number of elements: \t\t30000\n",
            "number of identical elements: \t\t30000\n",
            "number of different elements: \t\t0\n",
            "percentage of identical elements: \t100.00%\n"
          ],
          "name": "stdout"
        }
      ]
    },
    {
      "cell_type": "markdown",
      "metadata": {
        "id": "7DHpb-W76tQr"
      },
      "source": [
        "# Báo Cáo"
      ]
    },
    {
      "cell_type": "markdown",
      "metadata": {
        "id": "wvtArBiz7itu"
      },
      "source": [
        "\n",
        "# Mô tả thuật toán đã cài đặt (Thien & Lin)\n",
        "\n",
        "- Thuật toán shamir1 và shamir2 cặt đặt lại từ code demo của thầy\n",
        "- Còn với Thien & lien cải tiến từ shamir2 \n",
        "- Giải thích code chi tiết trong từng khối code\n",
        "\n",
        "# Vấn đề của thuật toán shamir với trường số nguyên\n",
        "\n",
        "Vấn đề tràn số:\n",
        "- Thuật toán shamir là có dạng phương trình **bậc k**\n",
        "- Các giá trị k, n, a lớn dẫn đến tràn số vì kiểu dữ liệu int trong các ngôn ngữ lập trình là cố giá trị giới hạn.\n",
        "\n",
        "Vấn đề bảo mật:\n",
        "- Phải có ít nhất k phần của Secret mới có thể tính ra Secret\n",
        "- Đối với trường số nguyên vô hạn thì chỉ cần sở hữu k' ít hơn k của tin mật thì ta có thể:\n",
        "    - Tái tạo lại các điểm k'\n",
        "    - Tái tạo lại hàm số, đường cong dựa vào brute-fore, vết cạn (thế các giá trị x vào để tìm thêm thông tin)\n",
        "    - k' càng gần bằng k thì việc tìm ngược lại hàm ban đầu càng dễ\n",
        "    - Biểu diễn các điểm trên trục toạ độ ta có thể đoán trước được điểm tiếp theo\n",
        "    - vd: k = 3 thì ta sẽ có đa thức bậc k - 1. Dựa vào hai điểm ta có thể đoán trước điẻm còn lại\n",
        "  \n",
        "- Dẫn đến việc khó bảo mật thông tin\n",
        "\n",
        "\n",
        "\n",
        "# Tại sao trường hữu hạn có thể giải quyết được vấn đề này ?\n",
        "Vấn đề 1: tràn số\n",
        "- Đối với trường hữu hạn thì các giá trị bị giới hạn trong 1 vùng (modulo p)\n",
        "- Giá trị P là số nguyên tố nhỏ hơn giá trị mà gây ra sự tràn số.\n",
        "- Do module cho p nên đảm bảo được vấn đề tràn số không xảy ra.\n",
        "\n",
        "Vấn đề 2: Bảo mật\n",
        "- Trong trường hữu hạn thì khi tất cả các điểm được biểu diễn trên trục toạ độ. Ta có thể thấy các điểm xuất hiện gần như ngẫu nhiên, rất khó đễ dự đoán được hình dạng ban đầu của hàm số.\n",
        "- Dẫn đến bảo mật tốn hơn, tránh được việc vét cạn (brute-fore)\n",
        " "
      ]
    }
  ]
}