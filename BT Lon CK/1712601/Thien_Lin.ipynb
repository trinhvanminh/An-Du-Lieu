{
  "nbformat": 4,
  "nbformat_minor": 0,
  "metadata": {
    "anaconda-cloud": {},
    "kernelspec": {
      "display_name": "Python 3",
      "language": "python",
      "name": "python3"
    },
    "language_info": {
      "codemirror_mode": {
        "name": "ipython",
        "version": 3
      },
      "file_extension": ".py",
      "mimetype": "text/x-python",
      "name": "python",
      "nbconvert_exporter": "python",
      "pygments_lexer": "ipython3",
      "version": "3.7.4"
    },
    "toc": {
      "nav_menu": {},
      "number_sections": false,
      "sideBar": true,
      "skip_h1_title": false,
      "title_cell": "Table of Contents",
      "title_sidebar": "Contents",
      "toc_cell": false,
      "toc_position": {
        "height": "calc(100% - 180px)",
        "left": "10px",
        "top": "150px",
        "width": "165px"
      },
      "toc_section_display": true,
      "toc_window_display": true
    },
    "colab": {
      "name": "Thien Lin.ipynb",
      "provenance": [],
      "collapsed_sections": [
        "JwJI_Gl53zt6",
        "6jNfRK1D4cGh",
        "YVSDN3R935Yj"
      ]
    }
  },
  "cells": [
    {
      "cell_type": "markdown",
      "metadata": {
        "id": "l-BKV_h1VGkr"
      },
      "source": [
        "# **Bài tập lớn cuối kỳ**\n",
        "- Mssv: 1712601\n",
        "- Họ và tên: Trịnh Văn Minh"
      ]
    },
    {
      "cell_type": "markdown",
      "metadata": {
        "id": "EhNhCfXaVbAJ"
      },
      "source": [
        "# Ý tưởng để tái tạo ảnh mật"
      ]
    },
    {
      "cell_type": "markdown",
      "metadata": {
        "id": "Td9psow9UfSi"
      },
      "source": [
        "\n",
        "\n",
        "- Nhân ma trận nghịch đảo để giải hệ phương trình \n",
        "- Từ đó tìm ra các pixel $P_i$\n",
        "- Hệ có dạng\n",
        "\n",
        "\\begin{equation*}\n",
        "\\begin{bmatrix}\n",
        "P_1x_1^0 & P_2x_1^2 & P_3x_1^2 \\\\\n",
        "P_1x_2^0 & P_2x_2^2 & P_3x_2^2 \\\\\n",
        "P_1x_3^0 & P_2x_3^2 & P_3x_3^2\n",
        "\\end{bmatrix}\n",
        "=\n",
        "\\begin{bmatrix}\n",
        "y_1 \\\\\n",
        "y_2 \\\\\n",
        "y_3\n",
        "\\end{bmatrix}\n",
        "\\end{equation*}\n",
        "\n",
        "- Tương đương\n",
        "\n",
        "\\begin{equation*}\n",
        "\\begin{bmatrix}\n",
        "x_1^0 & x_1^2 & x_1^2 \\\\\n",
        "x_2^0 & x_2^2 & x_2^2 \\\\\n",
        "x_3^0 & x_3^2 & x_3^2\n",
        "\\end{bmatrix}\n",
        "\\begin{bmatrix}\n",
        "P_1 \\\\\n",
        "P_2 \\\\\n",
        "P_3\n",
        "\\end{bmatrix}\n",
        "=\n",
        "\\begin{bmatrix}\n",
        "y_1 \\\\\n",
        "y_2 \\\\\n",
        "y_3\n",
        "\\end{bmatrix}\n",
        "\\end{equation*}\n",
        "\n",
        "- Áp dụng phương pháp nhân nghịch đảo để tính các pixel ($P_i$)\n",
        "\n",
        "\\begin{equation*}\n",
        "A \n",
        "= \n",
        "\\begin{bmatrix}\n",
        "x_1^0 & x_1^2 & x_1^2 \\\\\n",
        "x_2^0 & x_2^2 & x_2^2 \\\\\n",
        "x_3^0 & x_3^2 & x_3^2\n",
        "\\end{bmatrix}\n",
        "\\end{equation*}\n",
        "\n",
        "\\begin{equation*}\n",
        "X \n",
        "= \n",
        "\\begin{bmatrix}\n",
        "P_1 \\\\\n",
        "P_2 \\\\\n",
        "P_3\n",
        "\\end{bmatrix}\n",
        "\\end{equation*}\n",
        "\n",
        "\\begin{equation*}\n",
        "B \n",
        "= \n",
        "\\begin{bmatrix}\n",
        "y_1 \\\\\n",
        "y_2 \\\\\n",
        "y_3\n",
        "\\end{bmatrix}\n",
        "\\end{equation*}\n",
        "\n",
        "$A.X = B $\n",
        "\n",
        "$X^T.A^T$ = $B^T$\n",
        "\n",
        "$X^T$ = $B^T.(A^T)^(-1)$"
      ]
    },
    {
      "cell_type": "markdown",
      "metadata": {
        "id": "KVOPmdizVdrO"
      },
      "source": [
        "# Phần code\n"
      ]
    },
    {
      "cell_type": "code",
      "metadata": {
        "id": "DV3W4oY0FEaj"
      },
      "source": [
        "import math\n",
        "from PIL import Image\n",
        "import numpy as np\n",
        "from sympy import Matrix"
      ],
      "execution_count": 124,
      "outputs": []
    },
    {
      "cell_type": "code",
      "metadata": {
        "id": "Q-TnwTpYFEal"
      },
      "source": [
        "def compute_polynomial(p, coefs, xs):\n",
        "    '''\n",
        "    Tính giá trị của hàm đa thức.\n",
        "\n",
        "    Các tham số:\n",
        "        coefs (mảng numpy một chiều): Các hệ số của hàm đa thức, \n",
        "                                        f(x) = coefs[0] + coefs[1]*x + coefs[2]*x^2 + ...\n",
        "        xs (mảng numpy một chiều): Các giá trị x mà tại đó cần tính f(x).\n",
        "    Giá trị trả về:\n",
        "        Mảng numpy một chiều: Phần tử chỉ số i trong mảng này bằng f(xs[i]).\n",
        "    '''\n",
        "    # TODO\n",
        "    f_xs = np.zeros(xs.shape, dtype=int)\n",
        "    for i in range(len(coefs)):\n",
        "        xs_pow_i = np.ones(xs.shape, dtype=int)\n",
        "        for j in range(i):\n",
        "            xs_pow_i = (xs_pow_i * xs) % p\n",
        "\n",
        "        f_xs = (f_xs + coefs[i] * xs_pow_i % p) % p\n",
        "\n",
        "    return f_xs\n",
        "\n",
        "def convert_pixels_to_mode(pixels, mode=0):\n",
        "  # lossy\n",
        "  if mode == 0:\n",
        "      for r in range(pixels.shape[0]):\n",
        "          for c in range(pixels.shape[1]):\n",
        "              if pixels[r,c] > 250:\n",
        "                  pixels[r,c] = 250\n",
        "      return pixels\n",
        "  # mode 1 or any: lossless\n",
        "  else:\n",
        "      pixels = pixels.flatten()\n",
        "      new_pixels = np.array([], dtype=np.uint8)\n",
        "\n",
        "      for i in range(pixels.size):\n",
        "        if pixels[i] >= 250:\n",
        "          new_pixels = np.append(new_pixels, [250, pixels[i] - 250])\n",
        "        else:\n",
        "          new_pixels = np.append(new_pixels, pixels[i])\n",
        "      \n",
        "      return new_pixels\n",
        "\n",
        "\n",
        "def split(ori_image, split_image, n, k, p=251, mode=0):\n",
        "    '''\n",
        "    Hàm phân chia ảnh mật ori_image m pixel thành k phần (k nhóm) sao cho chỉ khi có ít nhất là k phần (k <= n)\n",
        "    thì mới tái tạo được ori_image, còn ít hơn k phần thì sẽ không biết gì về s.\n",
        "\n",
        "    Các tham số:\n",
        "        ori_image (*.bmp): Ảnh cần chia sẻ.\n",
        "        split_image (*.bmp): Phần tên không bao gồm số thứ tự (vd part.bmp thay vì part0.bmp)\n",
        "        n (int): Số phần cần phân chia.\n",
        "        k (int): Ngưỡng k (k <= n).\n",
        "        mode: 0 (lossy)\n",
        "              1 (lossless)\n",
        "    Giá trị trả về:\n",
        "        n ảnh mang tên split_image$.bmp\n",
        "        xs mảng x\n",
        "    '''\n",
        "    pixels = np.array(Image.open(ori_image))\n",
        "\n",
        "    ori_shape = pixels.shape\n",
        "    m = pixels.size\n",
        "    \n",
        "    # convert pixels to mode\n",
        "    pixels = convert_pixels_to_mode(pixels, mode)\n",
        "    new_m = pixels.size\n",
        "\n",
        "    # padding 0 -> m % k == 0\n",
        "    padded_pixels = np.append(pixels, (k - new_m % k)*[0])\n",
        "    # reshape into group\n",
        "    padded_pixels = padded_pixels.reshape(-1, k)\n",
        "    groups_len = padded_pixels.shape[0]\n",
        "    # 2D array\n",
        "    result_arr = np.zeros((groups_len, n), dtype=np.uint8)\n",
        "\n",
        "    for i in range(groups_len):\n",
        "        # Lấy các hệ số từ k pixels\n",
        "        coefs = padded_pixels[i]\n",
        "        xs = np.arange(n) + 1\n",
        "        ys = compute_polynomial(p, coefs, xs)\n",
        "        ys = ys.astype(np.uint8)\n",
        "\n",
        "        result_arr[i] = ys\n",
        "\n",
        "    # Tách từng phần, tách từng ảnh\n",
        "    for i in range(n):\n",
        "        new_pixels = result_arr[:, i]\n",
        "        # padding\n",
        "        new_pixels = np.append(new_pixels, [0]*(m - len(new_pixels)))\n",
        "        new_pixels = new_pixels.reshape(ori_shape[0], ori_shape[1])\n",
        "        new_pixels= new_pixels.astype(np.uint8)\n",
        "        \n",
        "        # Ghi new pixels xuống file\n",
        "        Image.fromarray(new_pixels).save(split_image.split('.')[0] + str(i + 1) + '.bmp')\n",
        "    return xs"
      ],
      "execution_count": 125,
      "outputs": []
    },
    {
      "cell_type": "markdown",
      "metadata": {
        "id": "6y-2ADpcOrkW"
      },
      "source": [
        "## Hàm get_ys_group \n",
        "- Với tham số đầu vào split_image (vd: part.bmp thay vì part1.bmp)\n",
        "- Hàm này sẽ trả về các nhóm các ys, kích thước (512*512), shape(512,512)"
      ]
    },
    {
      "cell_type": "code",
      "metadata": {
        "id": "6MnrQ9XUG02Y"
      },
      "source": [
        "def get_ys_group(split_image, n, k, p=251):\n",
        "    pixels_part = np.array(Image.open(split_image.split('.')[0] + '1.bmp'))\n",
        "    m = pixels_part.size\n",
        "    shape = pixels_part.shape\n",
        "    # kích thước ban đầu của part (chưa padding)\n",
        "    ori_size = math.ceil(m / k)\n",
        "    ys_group = np.zeros((n, ori_size), dtype=int)\n",
        "    for i in range(n):\n",
        "        pixels_part = np.array(Image.open(\n",
        "            split_image.split('.')[0] + str(i + 1) + '.bmp'))\n",
        "        # loại bỏ padding\n",
        "        pixels_part = pixels_part.flatten()[:ori_size]\n",
        "        ys_group[i] = pixels_part\n",
        "    ys_group = ys_group.T\n",
        "    return ys_group, m, shape"
      ],
      "execution_count": 126,
      "outputs": []
    },
    {
      "cell_type": "markdown",
      "metadata": {
        "id": "xDgOMW6MPck1"
      },
      "source": [
        "## Hàm get_A \n",
        "- Nhận vào tham số `new_xs` là một mảng bao gồm các xs đã được hoán vị ngẫu nhiên\n",
        "- Tạo ra mảng `xs_pow_i_arr` là một matrix gôm các giá trị\n",
        "\\begin{equation*}\n",
        "A \n",
        "= \n",
        "\\begin{bmatrix}\n",
        "x_1^0 & x_1^2 & x_1^2 \\\\\n",
        "x_2^0 & x_2^2 & x_2^2 \\\\\n",
        "x_3^0 & x_3^2 & x_3^2\n",
        "\\end{bmatrix}\n",
        "\\end{equation*}\n",
        "\n",
        "- Trà về một matrix A đã nghịch đảo và mod 251\n",
        "\n"
      ]
    },
    {
      "cell_type": "code",
      "metadata": {
        "id": "WbptYPhduZr1"
      },
      "source": [
        "def get_A(new_xs, k, p=251):\n",
        "    # print(new_xs)\n",
        "    xs_pow_i_arr = np.zeros((k, k), dtype=np.uint8)\n",
        "    for i in range(len(new_xs)):\n",
        "        xs_pow_i = np.ones(new_xs.shape, dtype=np.uint8)\n",
        "        for j in range(i):\n",
        "            xs_pow_i = (xs_pow_i * new_xs) % 251\n",
        "        xs_pow_i_arr[i] = xs_pow_i\n",
        "    # print(xs_pow_i_arr)\n",
        "\n",
        "    # inverse matrix mod p\n",
        "    A = Matrix(xs_pow_i_arr)  # keyMatrix is your basic matrix ndrarray format\n",
        "    A = A.inv_mod(p)  # 251\n",
        "    return A"
      ],
      "execution_count": 127,
      "outputs": []
    },
    {
      "cell_type": "markdown",
      "metadata": {
        "id": "rQCiDRPWXAP_"
      },
      "source": [
        "## Hàm join\n",
        "- Nhận vào các tham số đã được cắt ra bởi các index ngẫu nhiên của xs\n",
        "- Trả về kết quả là một mảng gồm các pixel được tính bằng\n",
        "\n",
        " `pixels_part = matrix_B * matrix_A % p`"
      ]
    },
    {
      "cell_type": "code",
      "metadata": {
        "id": "crI_vKltucvA"
      },
      "source": [
        "def join(new_xs, new_ys_group, k, p=251):\n",
        "    '''\n",
        "    Tái tạo tin mật s từ n' phần của tin mật (n' >= k).\n",
        "\n",
        "    Các tham số:\n",
        "        xs, ys (2 mảng numpy một chiều, len = n'): n' phần của tin mật: phần thứ 1 là (xs[0], ys[0]), \n",
        "                                                                        phần thứ 2 là (xs[1], ys[1]), \n",
        "                                                                        ...\n",
        "        k (int): Ngưỡng k mà đã dùng khi phân chia tin mật.\n",
        "    Giá trị trả về:\n",
        "        int: Tin mật s được tái tạo,\n",
        "                trong trường hợp không đủ số phần để tái tạo tin mật thì trả về None.\n",
        "    '''\n",
        "    # TODO\n",
        "    if len(new_xs) < k:\n",
        "        return None\n",
        "\n",
        "    # A inversed, mod 251\n",
        "    matrix_A = get_A(new_xs, k, p)\n",
        "\n",
        "    pixels = np.array([], dtype=int)\n",
        "    for i in range(new_ys_group.shape[0]):\n",
        "        matrix_B = Matrix(new_ys_group[i]).reshape(1, k)  # 1, k\n",
        "        pixels_part = matrix_B * matrix_A % p\n",
        "        pixels = np.append(pixels, pixels_part)\n",
        "  \n",
        "    return pixels.astype(np.uint8)"
      ],
      "execution_count": 135,
      "outputs": []
    },
    {
      "cell_type": "markdown",
      "metadata": {
        "id": "6AGJBJKM2M8t"
      },
      "source": [
        "# Phân chia ảnh mật: chia nhóm, lấy kích thước ban đầu, shape"
      ]
    },
    {
      "cell_type": "code",
      "metadata": {
        "id": "N01tjgY2FwcF",
        "colab": {
          "base_uri": "https://localhost:8080/"
        },
        "outputId": "181f6541-2279-4d65-cd9a-b85f1a9f6a5b"
      },
      "source": [
        "# Phân chia ảnh mật\n",
        "p = 251\n",
        "k = 3\n",
        "n = 5\n",
        "\n",
        "# mode: 0 (lossy), 1(lossless)\n",
        "xs = split('cover.bmp','part.bmp', n, k, p, mode=0)\n",
        "\n",
        "# chia nhóm\n",
        "ys_group, size, shape = get_ys_group('part.bmp', n, k, p)\n",
        "print(ys_group)\n",
        "print(xs)\n",
        "print(size, shape)"
      ],
      "execution_count": 129,
      "outputs": [
        {
          "output_type": "stream",
          "text": [
            "[[235 130  98 139   2]\n",
            " [229 109  52  58 127]\n",
            " [239 145 132 200  98]\n",
            " ...\n",
            " [ 40 198  62 134 163]\n",
            " [ 58 226 102 188 233]\n",
            " [108 108 108 108 108]]\n",
            "[1 2 3 4 5]\n",
            "262144 (512, 512)\n"
          ],
          "name": "stdout"
        }
      ]
    },
    {
      "cell_type": "markdown",
      "metadata": {
        "id": "ZkJnSf9_2CBB"
      },
      "source": [
        "# Chọn ngẫu nhiên n' phần để tái tạo tin mật \n",
        "Mất khoảng 2 phút với n = 5, k = 3"
      ]
    },
    {
      "cell_type": "code",
      "metadata": {
        "id": "fQ66JkPVFEao",
        "colab": {
          "base_uri": "https://localhost:8080/"
        },
        "outputId": "e06a3728-e9e5-4f40-d6e0-4f05b048c098"
      },
      "source": [
        "# -------------------------------------\n",
        "#   mất khoảng 2 phút để hoàn tất\n",
        "#--------------------------------------\n",
        "\n",
        "rand_idxs = np.random.permutation(np.arange(n))\n",
        "\n",
        "# -------------------------------------\n",
        "n_prime = k - 1\n",
        "\n",
        "new_xs = xs[rand_idxs[:n_prime]]\n",
        "new_ys_group = ys_group[:, rand_idxs[:n_prime]]\n",
        "\n",
        "rec_s = join(new_xs, new_ys_group, k, p)\n",
        "print(rec_s)\n",
        "\n",
        "#--------------------------------------\n",
        "\n",
        "n_prime = k\n",
        "\n",
        "new_xs = xs[rand_idxs[:n_prime]]\n",
        "new_ys_group = ys_group[:, rand_idxs[:n_prime]]\n",
        "\n",
        "rec_s = join(new_xs, new_ys_group, k, p)\n",
        "rec_s = rec_s[:size].reshape(shape)\n",
        "print(rec_s)\n",
        "\n",
        "# Ghi new pixels xuống file\n",
        "Image.fromarray(rec_s).save('reconstructor_cover.bmp')"
      ],
      "execution_count": 136,
      "outputs": [
        {
          "output_type": "stream",
          "text": [
            "None\n",
            "[[162 162 162 ... 170 155 128]\n",
            " [162 162 162 ... 170 155 128]\n",
            " [162 162 162 ... 170 155 128]\n",
            " ...\n",
            " [ 43  43  50 ... 104 100  98]\n",
            " [ 44  44  55 ... 104 105 108]\n",
            " [ 44  44  55 ... 104 105 108]]\n"
          ],
          "name": "stdout"
        }
      ]
    },
    {
      "cell_type": "markdown",
      "metadata": {
        "id": "udo2CKlY1zfW"
      },
      "source": [
        "# Kiểm tra lại kết quả"
      ]
    },
    {
      "cell_type": "code",
      "metadata": {
        "colab": {
          "base_uri": "https://localhost:8080/"
        },
        "id": "ZNwb6ivSzvRe",
        "outputId": "6b3cec73-bcb8-41f4-b75f-6e305425cc00"
      },
      "source": [
        "\n",
        "pixels = np.array(Image.open('cover.bmp'))\n",
        "print(pixels)\n",
        "print(pixels.size)\n",
        "print(pixels.shape)\n",
        "print(pixels.dtype)\n",
        "\n",
        "print(rec_s)\n",
        "print(rec_s.size)\n",
        "print(rec_s.shape)\n",
        "print(rec_s.dtype)\n",
        "\n",
        "number_of_equal_elements = np.sum(pixels==rec_s)\n",
        "total_elements = np.multiply(*pixels.shape)\n",
        "percentage = number_of_equal_elements/total_elements\n",
        "\n",
        "print('total number of elements: \\t\\t{}'.format(total_elements))\n",
        "print('number of identical elements: \\t\\t{}'.format(number_of_equal_elements))\n",
        "print('number of different elements: \\t\\t{}'.format(total_elements-number_of_equal_elements))\n",
        "print('percentage of identical elements: \\t{:.2f}%'.format(percentage*100))\n",
        "\n"
      ],
      "execution_count": 137,
      "outputs": [
        {
          "output_type": "stream",
          "text": [
            "[[162 162 162 ... 170 155 128]\n",
            " [162 162 162 ... 170 155 128]\n",
            " [162 162 162 ... 170 155 128]\n",
            " ...\n",
            " [ 43  43  50 ... 104 100  98]\n",
            " [ 44  44  55 ... 104 105 108]\n",
            " [ 44  44  55 ... 104 105 108]]\n",
            "262144\n",
            "(512, 512)\n",
            "uint8\n",
            "[[162 162 162 ... 170 155 128]\n",
            " [162 162 162 ... 170 155 128]\n",
            " [162 162 162 ... 170 155 128]\n",
            " ...\n",
            " [ 43  43  50 ... 104 100  98]\n",
            " [ 44  44  55 ... 104 105 108]\n",
            " [ 44  44  55 ... 104 105 108]]\n",
            "262144\n",
            "(512, 512)\n",
            "uint8\n",
            "total number of elements: \t\t262144\n",
            "number of identical elements: \t\t262144\n",
            "number of different elements: \t\t0\n",
            "percentage of identical elements: \t100.00%\n"
          ],
          "name": "stdout"
        }
      ]
    },
    {
      "cell_type": "markdown",
      "metadata": {
        "id": "JwJI_Gl53zt6"
      },
      "source": [
        "# Phân chia tin mật 2"
      ]
    },
    {
      "cell_type": "code",
      "metadata": {
        "id": "m26NO9KVFEap",
        "colab": {
          "base_uri": "https://localhost:8080/"
        },
        "outputId": "17913f0e-0192-42d6-a91e-b8d24a5b2177"
      },
      "source": [
        "\n",
        "p = 251\n",
        "k = 25\n",
        "n = 50\n",
        "xs = split('cover.bmp','k25_part.bmp', n, k, p)\n",
        "# chia nhóm\n",
        "ys_group, size, shape = get_ys_group('k25_part.bmp', n, k, p)\n",
        "print(ys_group)\n",
        "print(xs)\n",
        "print(size, shape)"
      ],
      "execution_count": 34,
      "outputs": [
        {
          "output_type": "stream",
          "text": [
            "[[217 143 162 ... 235  73  64]\n",
            " [ 47  23 228 ... 149  47  41]\n",
            " [123  10 118 ...  21 225 133]\n",
            " ...\n",
            " [ 94 101 108 ...  91 124 237]\n",
            " [115  22 212 ...  74 112 158]\n",
            " [190  32  65 ... 172 181 170]]\n",
            "[ 1  2  3  4  5  6  7  8  9 10 11 12 13 14 15 16 17 18 19 20 21 22 23 24\n",
            " 25 26 27 28 29 30 31 32 33 34 35 36 37 38 39 40 41 42 43 44 45 46 47 48\n",
            " 49 50]\n",
            "262144 (512, 512)\n"
          ],
          "name": "stdout"
        }
      ]
    },
    {
      "cell_type": "markdown",
      "metadata": {
        "id": "6jNfRK1D4cGh"
      },
      "source": [
        "# Chọn ngẫu nhiên n' phần để tái tạo tin mật\n",
        "Mất khoảng 11 phút để tái tạo với k = 25 và n = 50"
      ]
    },
    {
      "cell_type": "code",
      "metadata": {
        "colab": {
          "base_uri": "https://localhost:8080/"
        },
        "id": "0qfy6bAl4dqN",
        "outputId": "82991b6c-c569-4d18-9062-c8fed754fd3a"
      },
      "source": [
        "# -------------------------------------\n",
        "#   mất khoảng 11 phút để hoàn tất\n",
        "#--------------------------------------\n",
        "\n",
        "rand_idxs = np.random.permutation(np.arange(len(xs)))\n",
        "\n",
        "n_prime = k\n",
        "\n",
        "new_xs = xs[rand_idxs[:n_prime]]\n",
        "new_ys_group = ys_group[:, rand_idxs[:n_prime]]\n",
        "\n",
        "rec_s = join(new_xs, new_ys_group, k, p)\n",
        "rec_s = rec_s[:size].reshape(shape)\n",
        "print(rec_s)\n",
        "\n",
        "# Ghi new pixels xuống file\n",
        "Image.fromarray(rec_s).save('k25_reconstructor_cover.bmp')"
      ],
      "execution_count": 35,
      "outputs": [
        {
          "output_type": "stream",
          "text": [
            "[[162 162 162 ... 170 155 128]\n",
            " [162 162 162 ... 170 155 128]\n",
            " [162 162 162 ... 170 155 128]\n",
            " ...\n",
            " [ 43  43  50 ... 104 100  98]\n",
            " [ 44  44  55 ... 104 105 108]\n",
            " [ 44  44  55 ... 104 105 108]]\n"
          ],
          "name": "stdout"
        }
      ]
    },
    {
      "cell_type": "markdown",
      "metadata": {
        "id": "YVSDN3R935Yj"
      },
      "source": [
        "# Kiểm tra lại kết quả"
      ]
    },
    {
      "cell_type": "code",
      "metadata": {
        "colab": {
          "base_uri": "https://localhost:8080/"
        },
        "id": "khvrELfC36y2",
        "outputId": "0613c4d0-a365-4d5d-a69c-557820ac8fd6"
      },
      "source": [
        "\n",
        "pixels = np.array(Image.open('cover.bmp'))\n",
        "print(pixels)\n",
        "print(pixels.size)\n",
        "print(pixels.shape)\n",
        "print(pixels.dtype)\n",
        "\n",
        "print(rec_s)\n",
        "print(rec_s.size)\n",
        "print(rec_s.shape)\n",
        "print(rec_s.dtype)\n",
        "\n",
        "\n",
        "number_of_equal_elements = np.sum(pixels==rec_s)\n",
        "total_elements = np.multiply(*pixels.shape)\n",
        "percentage = number_of_equal_elements/total_elements\n",
        "\n",
        "print('total number of elements: \\t\\t{}'.format(total_elements))\n",
        "print('number of identical elements: \\t\\t{}'.format(number_of_equal_elements))\n",
        "print('number of different elements: \\t\\t{}'.format(total_elements-number_of_equal_elements))\n",
        "print('percentage of identical elements: \\t{:.2f}%'.format(percentage*100))"
      ],
      "execution_count": 39,
      "outputs": [
        {
          "output_type": "stream",
          "text": [
            "[[162 162 162 ... 170 155 128]\n",
            " [162 162 162 ... 170 155 128]\n",
            " [162 162 162 ... 170 155 128]\n",
            " ...\n",
            " [ 43  43  50 ... 104 100  98]\n",
            " [ 44  44  55 ... 104 105 108]\n",
            " [ 44  44  55 ... 104 105 108]]\n",
            "262144\n",
            "(512, 512)\n",
            "uint8\n",
            "[[162 162 162 ... 170 155 128]\n",
            " [162 162 162 ... 170 155 128]\n",
            " [162 162 162 ... 170 155 128]\n",
            " ...\n",
            " [ 43  43  50 ... 104 100  98]\n",
            " [ 44  44  55 ... 104 105 108]\n",
            " [ 44  44  55 ... 104 105 108]]\n",
            "262144\n",
            "(512, 512)\n",
            "uint8\n",
            "total number of elements: \t\t262144\n",
            "number of identical elements: \t\t262144\n",
            "number of different elements: \t\t0\n",
            "percentage of identical elements: \t100.00%\n"
          ],
          "name": "stdout"
        }
      ]
    },
    {
      "cell_type": "code",
      "metadata": {
        "id": "l7ch21GT9Q9i"
      },
      "source": [
        ""
      ],
      "execution_count": null,
      "outputs": []
    }
  ]
}