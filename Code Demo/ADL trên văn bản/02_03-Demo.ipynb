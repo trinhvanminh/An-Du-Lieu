{
 "cells": [
  {
   "cell_type": "markdown",
   "metadata": {},
   "source": [
    "# Demo phương pháp dùng khoảng trắng cuối mỗi dòng"
   ]
  },
  {
   "cell_type": "code",
   "execution_count": 7,
   "metadata": {},
   "outputs": [],
   "source": [
    "from bitarray import bitarray"
   ]
  },
  {
   "cell_type": "code",
   "execution_count": 11,
   "metadata": {},
   "outputs": [
    {
     "name": "stdout",
     "output_type": "stream",
     "text": [
      "Not enough spaces to embed!\n"
     ]
    },
    {
     "data": {
      "text/plain": [
       "False"
      ]
     },
     "execution_count": 11,
     "metadata": {},
     "output_type": "execute_result"
    }
   ],
   "source": [
    "def embed(msg_file, cover_text_file, text_width, stego_text_file):\n",
    "    # Read cover text file\n",
    "    with open(cover_text_file, 'r') as f:\n",
    "        cover_text_lines = f.read().splitlines()\n",
    "    \n",
    "    # Read msg file\n",
    "    with open(msg_file, 'r') as f:\n",
    "        msg = f.read()\n",
    "    \n",
    "    # Convert msg to msg bits\n",
    "    msg_bits = bitarray()\n",
    "    msg_bits.fromstring(msg)\n",
    "    \n",
    "    # Embed msg bits into cover text lines\n",
    "    stego_text = ''\n",
    "    b = 0\n",
    "    for line in cover_text_lines:\n",
    "        stego_text += line\n",
    "        if b < len(msg_bits):\n",
    "            n_allowed_spaces = text_width - len(line)\n",
    "            n_needed_spaces = msg_bits[b] + 1\n",
    "            if n_needed_spaces <= n_allowed_spaces:\n",
    "                stego_text += n_needed_spaces * ' '\n",
    "                b += 1\n",
    "        stego_text += '\\n'\n",
    "    if b < len(msg_bits):\n",
    "        print('Not enough spaces to embed!')\n",
    "        return False\n",
    "    \n",
    "    # Write stego text to file\n",
    "    with open(stego_text_file, 'w') as f:\n",
    "        f.write(stego_text)\n",
    "    return True\n",
    "\n",
    "embed('02_03-msg.txt', '02_03-cover.txt', 70, '02_03-stego.txt')"
   ]
  },
  {
   "cell_type": "code",
   "execution_count": 9,
   "metadata": {},
   "outputs": [],
   "source": [
    "def extract(stego_text_file, extr_msg_file):\n",
    "    # Read stego text file\n",
    "    with open(stego_text_file, 'r') as f:\n",
    "        stego_text_lines = f.read().splitlines()\n",
    "    \n",
    "    # Extract msg bits\n",
    "    extr_msg_bits = bitarray()\n",
    "    for line in stego_text_lines:\n",
    "        if line[-2:] == '  ':\n",
    "            extr_msg_bits.append(True)\n",
    "        elif line[-1:] == ' ':\n",
    "            extr_msg_bits.append(False)\n",
    "    \n",
    "    # Convert extracted msg bits to msg\n",
    "    extr_msg = extr_msg_bits.tostring()\n",
    "    \n",
    "    # Write extracted msg to file\n",
    "    with open(extr_msg_file, 'w') as f:\n",
    "        f.write(extr_msg)\n",
    "\n",
    "extract('02_03-stego.txt', '02_03-extr_msg.txt')"
   ]
  },
  {
   "cell_type": "code",
   "execution_count": null,
   "metadata": {},
   "outputs": [],
   "source": []
  }
 ],
 "metadata": {
  "kernelspec": {
   "display_name": "Python 3",
   "language": "python",
   "name": "python3"
  },
  "language_info": {
   "codemirror_mode": {
    "name": "ipython",
    "version": 3
   },
   "file_extension": ".py",
   "mimetype": "text/x-python",
   "name": "python",
   "nbconvert_exporter": "python",
   "pygments_lexer": "ipython3",
   "version": "3.7.4"
  }
 },
 "nbformat": 4,
 "nbformat_minor": 4
}
