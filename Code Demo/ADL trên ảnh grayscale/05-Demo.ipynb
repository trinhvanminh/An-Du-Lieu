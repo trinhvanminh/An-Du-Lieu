{
 "cells": [
  {
   "cell_type": "markdown",
   "source": [
    "# Demo phương pháp LSB "
   ],
   "metadata": {}
  },
  {
   "cell_type": "code",
   "execution_count": 4,
   "source": [
    "from bitarray import bitarray\r\n",
    "from PIL import Image\r\n",
    "import numpy as np"
   ],
   "outputs": [],
   "metadata": {}
  },
  {
   "cell_type": "code",
   "execution_count": null,
   "source": [
    "def embed(msg_file, cover_img_file, num_lsbs, stego_img_file):\r\n",
    "    # Đọc cover img file\r\n",
    "    cover_pixels = np.array(Image.open(cover_img_file))\r\n",
    "    # print(cover_pixels.shape)\r\n",
    "    # print(cover_pixels.dtype)\r\n",
    "    \r\n",
    "    # Đọc msg file\r\n",
    "    with open(msg_file, 'r') as f:\r\n",
    "        msg = f.read()\r\n",
    "    # print(len(msg))\r\n",
    "    \r\n",
    "    # Chuyển msg thành msg bits\r\n",
    "    msg_bits = bitarray()\r\n",
    "    msg_bits.fromstring(msg)\r\n",
    "    # print(len(msg_bits))\r\n",
    "    \r\n",
    "    # Kiểm xem có nhúng được không?\r\n",
    "    capacity = cover_pixels.size * num_lsbs\r\n",
    "    if len(msg_bits) + 1 > capacity:\r\n",
    "        print('Cannot embed')\r\n",
    "        return False\r\n",
    "    \r\n",
    "    # Thêm '100...' vào msg bits\r\n",
    "    msg_bits.extend('1' + '0' * (capacity - len(msg_bits) - 1))\r\n",
    "   \r\n",
    "    # Nhúng msg bits vào cover pixels\r\n",
    "    stego_pixels = np.empty_like(cover_pixels)\r\n",
    "    for r in range(cover_pixels.shape[0]):\r\n",
    "        for c in range(cover_pixels.shape[1]):\r\n",
    "            b = (r * cover_pixels.shape[1] + c) * num_lsbs\r\n",
    "            stego_pixels[r, c] = (cover_pixels[r, c]>>num_lsbs<<num_lsbs)\\\r\n",
    "                                + int(msg_bits[b:b+num_lsbs].to01(), 2)\r\n",
    "    # Ghi stego pixels xuống file\r\n",
    "    Image.fromarray(stego_pixels).save(stego_img_file)\r\n",
    "    \r\n",
    "    return True\r\n",
    "    \r\n",
    "embed('05-msg.txt', '05-cover.bmp', 2, '05-stego.bmp')"
   ],
   "outputs": [
    {
     "output_type": "execute_result",
     "data": {
      "text/plain": [
       "True"
      ]
     },
     "metadata": {},
     "execution_count": 5
    }
   ],
   "metadata": {}
  },
  {
   "cell_type": "code",
   "execution_count": 6,
   "source": [
    "def extract(stego_img_file, num_lsbs, extr_msg_file):\r\n",
    "    # Đọc stego img file\r\n",
    "    stego_pixels = np.array(Image.open(stego_img_file))\r\n",
    "    \r\n",
    "    # Rút trích msg bits\r\n",
    "    extr_msg_bits = bitarray()\r\n",
    "    for pixel in stego_pixels.reshape(-1):\r\n",
    "        extr_msg_bits.extend((np.binary_repr(pixel & (2**num_lsbs-1), num_lsbs)))\r\n",
    "    \r\n",
    "    # Cắt đuôi '100...' ra khỏi msg bits\r\n",
    "    extr_msg_bits = extr_msg_bits[:extr_msg_bits.to01().rfind('1')]\r\n",
    "    \r\n",
    "    # Chuyển msg bits thành msg\r\n",
    "    extr_msg = extr_msg_bits.tostring()\r\n",
    "    \r\n",
    "    # Ghi msg xuống file\r\n",
    "    with open(extr_msg_file, 'w') as f:\r\n",
    "        f.write(extr_msg)\r\n",
    "        \r\n",
    "extract('05-stego.bmp', 2, '05-extr_msg.txt')"
   ],
   "outputs": [],
   "metadata": {}
  },
  {
   "cell_type": "code",
   "execution_count": null,
   "source": [],
   "outputs": [],
   "metadata": {}
  }
 ],
 "metadata": {
  "kernelspec": {
   "name": "python3",
   "display_name": "Python 3.8.3 32-bit"
  },
  "language_info": {
   "codemirror_mode": {
    "name": "ipython",
    "version": 3
   },
   "file_extension": ".py",
   "mimetype": "text/x-python",
   "name": "python",
   "nbconvert_exporter": "python",
   "pygments_lexer": "ipython3",
   "version": "3.8.3"
  },
  "interpreter": {
   "hash": "0c45a5eccb5c7173f85d0997c6525165849f753aa0b1725b331da52fd44e877d"
  }
 },
 "nbformat": 4,
 "nbformat_minor": 4
}